{
 "cells": [
  {
   "cell_type": "markdown",
   "metadata": {},
   "source": [
    "**This notebook combines running training, inference & ensembling for all models. If you would run it like this it would run about 4 days, so you can just copy out the models you want one by one and run them individually! I have uploads of all the weights & features on kaggle if you want to make use of them. Let me know if you have any questions!** 🥶"
   ]
  },
  {
   "cell_type": "markdown",
   "metadata": {},
   "source": [
    "# Data Preparation"
   ]
  },
  {
   "cell_type": "code",
   "execution_count": null,
   "metadata": {
    "_cell_guid": "b1076dfc-b9ad-4769-8c92-a6c4dae69d19",
    "_uuid": "8f2839f25d086af736a60e9eeb907d3b93b6e0e5"
   },
   "outputs": [],
   "source": [
    "# Clone the repo; Get in the data\n",
    "!cd ../; git clone -b master https://github.com/Muennighoff/vilio.git\n",
    "\n",
    "# Copy in the data you want to run; For simplification I just copy in all (If you run this on kaggle it might crash)\n",
    "# Refer to the extraction notebook if you havn't run extraction yet!\n",
    "!cp -r ../input/hmtsvfeats/* ../vilio/data/\n",
    "!cp -r ../input/hmtsvfeats/* ../vilio/ernie-vil/data/hm/\n",
    "# LMDB feats only used for V-Model\n",
    "!cp -r ../input/hmfeatureszipfin/detectron.lmdb ../vilio/data/\n",
    "\n",
    "# Copy in the hateful memes data from uploading / downloading it\n",
    "# If you do not have enough disk space split up the training of models!\n",
    "# If you downloaded the updated HM data; you just need to copy in everything in the data folder (img, .jsonl's)\n",
    "# Replace the hatefulmemes below with the name of your uploaded data\n",
    "!cp -r ../input/hatefulmemes/data/* ../vilio/data/\n",
    "!cp -r ../input/hatefulmemes/data/* ../vilio/ernie-vil/data/hm/\n",
    "\n",
    "# Copy in the pretrained models depending on which model you want to run; Again just putting all here\n",
    "# I have uploaded them all to kaggle so feel free to download from the below public dataets :)\n",
    "\n",
    "\n",
    "# O\n",
    "!cp ../input/oscarvglarge/large-vg-labels/ep_20_590000/pytorch_model.bin ../vilio/data/\n",
    "\n",
    "# U \n",
    "!cp ../input/uniterlarge/uniter-large.pt ../vilio/data/\n",
    "\n",
    "# V\n",
    "!cp ../input/vbpretrainedfb/model.pth ../vilio/data/\n",
    "\n",
    "\n",
    "# ES\n",
    "!cp -r ../input/erniesmall/ ../vilio/ernie-vil/data/\n",
    "!cp -r ../input/erniesmallvcr/ ../vilio/ernie-vil/data/\n",
    "\n",
    "# EL\n",
    "!cp -r ../input/ernielarge/ ../vilio/ernie-vil/data/\n",
    "!cp -r ../input/ernielargevcr/ ../vilio/ernie-vil/data/"
   ]
  },
  {
   "cell_type": "markdown",
   "metadata": {},
   "source": [
    "# Run PyTorch Models"
   ]
  },
  {
   "cell_type": "code",
   "execution_count": null,
   "metadata": {},
   "outputs": [],
   "source": [
    "# Install the PyTorch requirements\n",
    "!cd ../vilio; pip install -r requirements.txt"
   ]
  },
  {
   "cell_type": "code",
   "execution_count": null,
   "metadata": {},
   "outputs": [],
   "source": [
    "# O\n",
    "!cd ../vilio; bash bash/training/O/hm_O.sh"
   ]
  },
  {
   "cell_type": "code",
   "execution_count": null,
   "metadata": {},
   "outputs": [],
   "source": [
    "# U\n",
    "!cd ../vilio; bash bash/training/U/hm_U.sh"
   ]
  },
  {
   "cell_type": "code",
   "execution_count": null,
   "metadata": {},
   "outputs": [],
   "source": [
    "# V\n",
    "# Make sure we have the most updated torch with SWA\n",
    "!pip install torch==1.6.0+cu101 torchvision==0.7.0+cu101 -f https://download.pytorch.org/whl/torch_stable.html\n",
    "!cd ../vilio; bash bash/training/V/hm_V.sh"
   ]
  },
  {
   "cell_type": "markdown",
   "metadata": {},
   "source": [
    "# Run PaddlePaddle Models"
   ]
  },
  {
   "cell_type": "code",
   "execution_count": null,
   "metadata": {},
   "outputs": [],
   "source": [
    "# Install PaddlePaddle Requirements\n",
    "!cd ../vilio/ernie-vil; pip install -r requirements.txt"
   ]
  },
  {
   "cell_type": "code",
   "execution_count": null,
   "metadata": {},
   "outputs": [],
   "source": [
    "# ES\n",
    "!cd ../vilio/ernie-vil; bash bash/training/ES/hm_ES.sh"
   ]
  },
  {
   "cell_type": "code",
   "execution_count": null,
   "metadata": {},
   "outputs": [],
   "source": [
    "# EL\n",
    "!cd ../vilio/ernie-vil; bash bash/training/EL/hm_EL.sh"
   ]
  },
  {
   "cell_type": "markdown",
   "metadata": {},
   "source": [
    "# Combine & Output"
   ]
  },
  {
   "cell_type": "code",
   "execution_count": null,
   "metadata": {},
   "outputs": [],
   "source": [
    "# Reinstall normal requirements\n",
    "!cd ../vilio; pip install -r requirements.txt"
   ]
  },
  {
   "cell_type": "code",
   "execution_count": null,
   "metadata": {},
   "outputs": [],
   "source": [
    "!cp -r ../vilio/data/O*/*.csv ../vilio/data\n",
    "!cp -r ../vilio/data/U*/*.csv ../vilio/data\n",
    "!cp -r ../vilio/data/V*/*.csv ../vilio/data\n",
    "\n",
    "!cp -r ../vilio/ernie-vil/data/hm/ES*/*.csv ../vilio/data\n",
    "!cp -r ../vilio/ernie-vil/data/hm/EL*/*.csv ../vilio/data"
   ]
  },
  {
   "cell_type": "code",
   "execution_count": null,
   "metadata": {},
   "outputs": [],
   "source": [
    "!cd ../vilio; bash bash/hm_ens.sh"
   ]
  },
  {
   "cell_type": "code",
   "execution_count": null,
   "metadata": {},
   "outputs": [],
   "source": [
    "# Save final csvs\n",
    "!cp -r ../vilio/data/FIN*.csv ./"
   ]
  },
  {
   "cell_type": "code",
   "execution_count": null,
   "metadata": {},
   "outputs": [],
   "source": []
  },
  {
   "cell_type": "code",
   "execution_count": null,
   "metadata": {
    "_cell_guid": "79c7e3d0-c299-4dcb-8224-4455121ee9b0",
    "_uuid": "d629ff2d2480ee46fbb7e2d37f6b5fab8052498a",
    "collapsed": true,
    "jupyter": {
     "outputs_hidden": true
    }
   },
   "outputs": [],
   "source": []
  }
 ],
 "metadata": {
  "environment": {
   "kernel": "python3",
   "name": "pytorch-gpu.1-10.m86",
   "type": "gcloud",
   "uri": "gcr.io/deeplearning-platform-release/pytorch-gpu.1-10:m86"
  },
  "kernelspec": {
   "display_name": "Python 3",
   "language": "python",
   "name": "python3"
  },
  "language_info": {
   "codemirror_mode": {
    "name": "ipython",
    "version": 3
   },
   "file_extension": ".py",
   "mimetype": "text/x-python",
   "name": "python",
   "nbconvert_exporter": "python",
   "pygments_lexer": "ipython3",
   "version": "3.7.12"
  }
 },
 "nbformat": 4,
 "nbformat_minor": 4
}
